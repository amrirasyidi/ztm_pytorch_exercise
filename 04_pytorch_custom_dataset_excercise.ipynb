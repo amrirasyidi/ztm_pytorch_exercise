{
 "cells": [
  {
   "cell_type": "code",
   "execution_count": 76,
   "metadata": {},
   "outputs": [
    {
     "data": {
      "text/plain": [
       "'2.0.1'"
      ]
     },
     "execution_count": 76,
     "metadata": {},
     "output_type": "execute_result"
    }
   ],
   "source": [
    "import os\n",
    "import pathlib\n",
    "# import glob\n",
    "import random\n",
    "import shutil\n",
    "\n",
    "from PIL import Image\n",
    "\n",
    "import torch\n",
    "from torch import nn\n",
    "\n",
    "import torchvision\n",
    "from torchvision import transforms\n",
    "\n",
    "# Note: this notebook requires torch >= 1.10.0\n",
    "torch.__version__"
   ]
  },
  {
   "cell_type": "code",
   "execution_count": 2,
   "metadata": {},
   "outputs": [
    {
     "data": {
      "text/plain": [
       "'cuda'"
      ]
     },
     "execution_count": 2,
     "metadata": {},
     "output_type": "execute_result"
    }
   ],
   "source": [
    "# Setup device-agnostic code\n",
    "device = \"cuda\" if torch.cuda.is_available() else \"cpu\"\n",
    "device"
   ]
  },
  {
   "cell_type": "markdown",
   "metadata": {},
   "source": [
    "# Data Preparation\n",
    "\n",
    "1. Make training, validation and testing folder\n",
    "1. Move 70% of the data to training folder\n",
    "1. Move 20% of the data to validation folder\n",
    "1. Move 10% of the data to testing folder\n",
    "\n",
    "Folder structure after this process\n",
    "\n",
    "```\n",
    "data\n",
    "    └─── EuroSAT_MS\n",
    "        ├─── train\n",
    "        |   └─── AnnualCrop\n",
    "        |   |   ├─── AnnualCrop_1.tif\n",
    "        |   |   ├─── AnnualCrop_2.tif\n",
    "        |   |   └─── ...\n",
    "        |   ├─── Forest\n",
    "        |   |   ├─── Forest_1.tif\n",
    "        |   |   ├─── Forest_2.tif\n",
    "        |   |   └─── ...\n",
    "        ├─── valid\n",
    "        |   └─── AnnualCrop\n",
    "        |   |   ├─── AnnualCrop_3.tif\n",
    "        |   |   ├─── AnnualCrop_4.tif\n",
    "        |   |   └─── ...\n",
    "        |   ├─── Forest\n",
    "        |   |   ├─── Forest_3.tif\n",
    "        |   |   ├─── Forest_4.tif\n",
    "        |   |   └─── ...\n",
    "        └─── test\n",
    "            └─── AnnualCrop\n",
    "            |   ├─── AnnualCrop_1.tif\n",
    "            |   ├─── AnnualCrop_2.tif\n",
    "            |   └─── ...\n",
    "            └─── Forest\n",
    "                ├─── Forest_1.tif\n",
    "                ├─── Forest_2.tif\n",
    "                └─── ...\n",
    "```"
   ]
  },
  {
   "cell_type": "code",
   "execution_count": 32,
   "metadata": {},
   "outputs": [],
   "source": [
    "RANDOM_SEED = 42"
   ]
  },
  {
   "cell_type": "code",
   "execution_count": 100,
   "metadata": {},
   "outputs": [],
   "source": [
    "# Prepare the folder and its name\n",
    "root_dir = os.getcwd()\n",
    "root_dir = pathlib.Path(root_dir)\n",
    "\n",
    "data_path = root_dir / \"data\"\n",
    "eurosat_path = data_path / \"EuroSAT\"\n",
    "\n",
    "# Setup train, valid, and testing paths\n",
    "train_path = eurosat_path / \"train\"\n",
    "valid_path = eurosat_path / \"valid\"\n",
    "test_path = eurosat_path / \"test\"\n",
    "\n",
    "# put all the class names inside a list, \n",
    "# the last 3 is test, train, and valid, exclude these\n",
    "class_name = os.listdir(eurosat_path)#[:-3]"
   ]
  },
  {
   "cell_type": "code",
   "execution_count": 102,
   "metadata": {},
   "outputs": [
    {
     "name": "stdout",
     "output_type": "stream",
     "text": [
      "d:\\0_amri_local\\99_personal\\ztm_pytorch\\data\\EuroSAT\\train already exist, skipping the process...\n",
      "d:\\0_amri_local\\99_personal\\ztm_pytorch\\data\\EuroSAT\\valid already exist, skipping the process...\n",
      "d:\\0_amri_local\\99_personal\\ztm_pytorch\\data\\EuroSAT\\test already exist, skipping the process...\n"
     ]
    }
   ],
   "source": [
    "# make the train, test, and valid folders\n",
    "for data_folder in [train_path, valid_path, test_path]:\n",
    "    if not os.path.exists(data_folder):\n",
    "        os.makedirs(data_folder, exist_ok=False)\n",
    "        for class_folder in class_name:\n",
    "            os.makedirs(pathlib.Path(data_folder / class_folder))\n",
    "    else:\n",
    "        print(f\"{data_folder} already exist, skipping the process...\")"
   ]
  },
  {
   "cell_type": "code",
   "execution_count": 103,
   "metadata": {},
   "outputs": [
    {
     "data": {
      "text/plain": [
       "'SeaLake'"
      ]
     },
     "execution_count": 103,
     "metadata": {},
     "output_type": "execute_result"
    }
   ],
   "source": [
    "class_folder"
   ]
  },
  {
   "cell_type": "code",
   "execution_count": 104,
   "metadata": {},
   "outputs": [
    {
     "name": "stdout",
     "output_type": "stream",
     "text": [
      "total number of images: 3000\n",
      "number of images in train: 2100\n",
      "number of images in valid: 600\n",
      "number of images in test: 300\n"
     ]
    }
   ],
   "source": [
    "temp_class_folder = pathlib.Path(eurosat_path / class_folder)\n",
    "\n",
    "random.seed(RANDOM_SEED)\n",
    "temp_img_list = os.listdir(temp_class_folder)\n",
    "total_img = int(len(temp_img_list))\n",
    "\n",
    "train_img_list = random.sample(temp_img_list, int(total_img*.7))\n",
    "temp_img_list = list(set(temp_img_list) - set(train_img_list))\n",
    "valid_img_list = random.sample(temp_img_list, int(total_img*.2))\n",
    "test_img_list = list(set(temp_img_list) - set(valid_img_list))\n",
    "\n",
    "print(f\"total number of images: {total_img}\")\n",
    "print(f\"number of images in train: {len(train_img_list)}\")\n",
    "print(f\"number of images in valid: {len(valid_img_list)}\")\n",
    "print(f\"number of images in test: {len(test_img_list)}\")"
   ]
  },
  {
   "cell_type": "code",
   "execution_count": 91,
   "metadata": {},
   "outputs": [],
   "source": [
    "for _ in test_img_list[:5]:\n",
    "    # print(os.path.exists(pathlib.Path(eurosat_path / \"SeaLake\" / _)))\n",
    "    source = pathlib.Path(eurosat_path / \"SeaLake\" / _)\n",
    "    destination = pathlib.Path(eurosat_path / \"test\" / \"SeaLake\" / _)\n",
    "    shutil.copyfile(source, destination)"
   ]
  },
  {
   "cell_type": "code",
   "execution_count": 92,
   "metadata": {},
   "outputs": [
    {
     "data": {
      "text/plain": [
       "WindowsPath('d:/0_amri_local/99_personal/ztm_pytorch/data/EuroSAT/2750/SeaLake/SeaLake_427.jpg')"
      ]
     },
     "execution_count": 92,
     "metadata": {},
     "output_type": "execute_result"
    }
   ],
   "source": [
    "source"
   ]
  },
  {
   "cell_type": "code",
   "execution_count": 93,
   "metadata": {},
   "outputs": [
    {
     "data": {
      "image/png": "[encoded data removed]",
      "text/plain": [
       "<PIL.JpegImagePlugin.JpegImageFile image mode=RGB size=64x64>"
      ]
     },
     "execution_count": 93,
     "metadata": {},
     "output_type": "execute_result"
    }
   ],
   "source": [
    "Image.open(source)"
   ]
  },
  {
   "cell_type": "code",
   "execution_count": 30,
   "metadata": {},
   "outputs": [],
   "source": [
    "# # Define the transformation for the dataset\n",
    "# transform = transforms.Compose([\n",
    "#     # transforms.Resize((32, 32)),  # Resize images to 32x32 pixels\n",
    "#     transforms.ToTensor(),  # Convert images to tensors\n",
    "# ])\n",
    "\n",
    "\n",
    "\n",
    "# train_data = datasets.ImageFolder(root=train_dir, # target folder of images\n",
    "#                                   transform=transform, # transforms to perform on data (images)\n",
    "#                                   target_transform=None) # transforms to perform on labels (if necessary)\n",
    "\n",
    "\n",
    "# # Create a data loader for the dataset\n",
    "# train_loader = torch.utils.data.DataLoader(\n",
    "#     train_dataset,\n",
    "#     batch_size=64,\n",
    "#     shuffle=True\n",
    "# )\n"
   ]
  },
  {
   "cell_type": "code",
   "execution_count": null,
   "metadata": {},
   "outputs": [],
   "source": []
  }
 ],
 "metadata": {
  "kernelspec": {
   "display_name": "torch_gpu",
   "language": "python",
   "name": "python3"
  },
  "language_info": {
   "codemirror_mode": {
    "name": "ipython",
    "version": 3
   },
   "file_extension": ".py",
   "mimetype": "text/x-python",
   "name": "python",
   "nbconvert_exporter": "python",
   "pygments_lexer": "ipython3",
   "version": "3.10.9"
  },
  "orig_nbformat": 4
 },
 "nbformat": 4,
 "nbformat_minor": 2
}
